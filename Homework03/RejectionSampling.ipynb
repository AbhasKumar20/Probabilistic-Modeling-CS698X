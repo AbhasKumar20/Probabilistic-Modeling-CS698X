{
  "nbformat": 4,
  "nbformat_minor": 0,
  "metadata": {
    "kernelspec": {
      "display_name": "Python 3",
      "language": "python",
      "name": "python3"
    },
    "language_info": {
      "codemirror_mode": {
        "name": "ipython",
        "version": 3
      },
      "file_extension": ".py",
      "mimetype": "text/x-python",
      "name": "python",
      "nbconvert_exporter": "python",
      "pygments_lexer": "ipython3",
      "version": "3.8.5"
    },
    "colab": {
      "name": "RejectionSampling.ipynb",
      "provenance": [],
      "collapsed_sections": []
    }
  },
  "cells": [
    {
      "cell_type": "markdown",
      "metadata": {
        "id": "E_WCoXNMGcFT"
      },
      "source": [
        "#**Rejection Sampling**\n",
        "\n",
        "we want to use Rejection Sampling to sample from $p(x)$ and using a proposal distribution $q(x) = N (x|0, \\sigma^2)$.We need to figure  out the optimal value of the constant $M$ such that $M*q(z) ≥ p̃(x)$, as required in Rejection Sampling. Using this value of $M$ and some suitably chosen $σ^2$ , we need to  draw 10,000 samples from $p(x)$ distribution."
      ]
    },
    {
      "cell_type": "markdown",
      "metadata": {
        "id": "LdqvFknXRv3K"
      },
      "source": [
        "Making necessary imports"
      ]
    },
    {
      "cell_type": "code",
      "metadata": {
        "id": "G5ntIO6D8LnI"
      },
      "source": [
        "import numpy as np\n",
        "import math\n",
        "import matplotlib.pyplot as plt"
      ],
      "execution_count": 1,
      "outputs": []
    },
    {
      "cell_type": "markdown",
      "metadata": {
        "id": "uYRVjyn2R2Mi"
      },
      "source": [
        "Proposal distribution $q(x) = N (x|0, \\sigma^2)$ "
      ]
    },
    {
      "cell_type": "code",
      "metadata": {
        "id": "bmDXx_6-KHNC"
      },
      "source": [
        "def q(x):\n",
        "    return np.exp(-((x-0)**2)/(2*sigma**2))/np.sqrt(2*np.pi*sigma**2)"
      ],
      "execution_count": 2,
      "outputs": []
    },
    {
      "cell_type": "markdown",
      "metadata": {
        "id": "Ylb2zWv0R7of"
      },
      "source": [
        "Ploting the resulting histogram of the samples for suitably chosen $\\sigma=5$"
      ]
    },
    {
      "cell_type": "code",
      "metadata": {
        "id": "9z8t6cKYHsPs",
        "colab": {
          "base_uri": "https://localhost:8080/",
          "height": 407
        },
        "outputId": "90227c2b-bc49-4287-fd88-66bf9574309e"
      },
      "source": [
        "sigma=5\n",
        "M = ((2*np.pi)**(0.5))*sigma*np.exp(1+((np.pi**2)/(2*sigma**2)))\n",
        "print(\"optimal value of constant M for sigma=5 is\",M)\n",
        "samples = []\n",
        "for sample in range(10000):\n",
        "    \n",
        "    z = np.random.normal(0, sigma)\n",
        "    if z > - np.pi and z < np.pi:\n",
        "        if np.random.uniform(0, M*q(z)) <=np.exp(math.sin(z)):\n",
        "            samples.append(z)\n",
        "\n",
        "\n",
        "plt.figure(figsize=(8,6))\n",
        "plt.hist(samples, 200, density=True, color= \"orange\", label = \"samples\")\n",
        "plt.title(\"For sigma=5\")\n",
        "plt.legend()\n",
        "plt.show()"
      ],
      "execution_count": 6,
      "outputs": [
        {
          "output_type": "stream",
          "text": [
            "optimal value of constant M for sigma=5 is 41.503117033645324\n"
          ],
          "name": "stdout"
        },
        {
          "output_type": "display_data",
          "data": {
            "image/png": "[encoded data removed]",
            "text/plain": [
              "<Figure size 576x432 with 1 Axes>"
            ]
          },
          "metadata": {
            "tags": [],
            "needs_background": "light"
          }
        }
      ]
    },
    {
      "cell_type": "markdown",
      "metadata": {
        "id": "GikwNbgqSeLJ"
      },
      "source": [
        "Ploting the resulting histogram of the samples for low value of $\\sigma=1$"
      ]
    },
    {
      "cell_type": "code",
      "metadata": {
        "colab": {
          "base_uri": "https://localhost:8080/",
          "height": 407
        },
        "id": "Chjyf4oLP-Zb",
        "outputId": "b8125b8a-3b19-468e-888b-d591a7dba9ad"
      },
      "source": [
        "sigma=1\n",
        "M = ((2*np.pi)**(0.5))*sigma*np.exp(1+((np.pi**2)/(2*sigma**2)))\n",
        "print(\"optimal value of constant M =\",M)\n",
        "samples = []\n",
        "for sample in range(10000):\n",
        "    \n",
        "    z = np.random.normal(0, sigma)\n",
        "    if z > - np.pi and z < np.pi:\n",
        "        if np.random.uniform(0, M*q(z)) <=np.exp(math.sin(z)):\n",
        "            samples.append(z)\n",
        "\n",
        "\n",
        "plt.figure(figsize=(8,6))\n",
        "plt.hist(samples, 200, density=True, color= \"red\", label = \"samples\")\n",
        "plt.title(\"For sigma=1\")\n",
        "plt.legend()\n",
        "plt.show()"
      ],
      "execution_count": 7,
      "outputs": [
        {
          "output_type": "stream",
          "text": [
            "optimal value of constant M = 947.4183259814814\n"
          ],
          "name": "stdout"
        },
        {
          "output_type": "display_data",
          "data": {
            "image/png": "[encoded data removed]",
            "text/plain": [
              "<Figure size 576x432 with 1 Axes>"
            ]
          },
          "metadata": {
            "tags": [],
            "needs_background": "light"
          }
        }
      ]
    },
    {
      "cell_type": "markdown",
      "metadata": {
        "id": "fZUWaIceSq14"
      },
      "source": [
        "Ploting the resulting histogram of the samples for very high value $\\sigma=20$"
      ]
    },
    {
      "cell_type": "code",
      "metadata": {
        "colab": {
          "base_uri": "https://localhost:8080/",
          "height": 407
        },
        "id": "xBHsTr-1KovG",
        "outputId": "086758c7-9ea1-44cd-ffec-90b15facfdd9"
      },
      "source": [
        "\n",
        "sigma=20\n",
        "M = ((2*np.pi)**(0.5))*sigma*np.exp(1+((np.pi**2)/(2*sigma**2)))\n",
        "print(\"optimal value of constant M =\",M)\n",
        "samples = []\n",
        "for sample in range(10000):\n",
        "    \n",
        "    z = np.random.normal(0, sigma)\n",
        "    if z > - np.pi and z < np.pi:\n",
        "        if np.random.uniform(0, M*q(z)) <=np.exp(math.sin(z)):\n",
        "            samples.append(z)\n",
        "\n",
        "\n",
        "plt.figure(figsize=(8,6))\n",
        "plt.hist(samples, 200, density=True, color= \"blue\", label = \"samples\")\n",
        "plt.title(\"For sigma=20\")\n",
        "plt.legend()\n",
        "plt.show()"
      ],
      "execution_count": 8,
      "outputs": [
        {
          "output_type": "stream",
          "text": [
            "optimal value of constant M = 137.9660737111376\n"
          ],
          "name": "stdout"
        },
        {
          "output_type": "display_data",
          "data": {
            "image/png": "[encoded data removed]",
            "text/plain": [
              "<Figure size 576x432 with 1 Axes>"
            ]
          },
          "metadata": {
            "tags": [],
            "needs_background": "light"
          }
        }
      ]
    }
  ]
}